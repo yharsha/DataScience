{
 "cells": [
  {
   "cell_type": "code",
   "execution_count": null,
   "metadata": {},
   "outputs": [],
   "source": [
    "class Dog():\n",
    "    species='mammal'\n",
    "    def __init__(self,breed,name,spots):\n",
    "        print(\"init method\")\n",
    "        self.breed=breed\n",
    "        self.name=name\n",
    "        self.spots=spots"
   ]
  },
  {
   "cell_type": "code",
   "execution_count": null,
   "metadata": {},
   "outputs": [],
   "source": [
    "mydog = Dog(breed='dober',name='puppy',spots=False)"
   ]
  },
  {
   "cell_type": "code",
   "execution_count": null,
   "metadata": {},
   "outputs": [],
   "source": [
    "mydog.breed\n"
   ]
  },
  {
   "cell_type": "code",
   "execution_count": null,
   "metadata": {},
   "outputs": [],
   "source": [
    "mydog.name\n",
    "mydog.spots\n"
   ]
  },
  {
   "cell_type": "code",
   "execution_count": null,
   "metadata": {},
   "outputs": [],
   "source": [
    "mydog1 = Dog('bb','sad',False)"
   ]
  },
  {
   "cell_type": "code",
   "execution_count": null,
   "metadata": {},
   "outputs": [],
   "source": [
    "mydog1.species"
   ]
  },
  {
   "cell_type": "code",
   "execution_count": null,
   "metadata": {},
   "outputs": [],
   "source": [
    "dir(mydog1)\n",
    "type(mydog1)"
   ]
  },
  {
   "cell_type": "code",
   "execution_count": null,
   "metadata": {},
   "outputs": [],
   "source": [
    "print(dir(mydog))"
   ]
  },
  {
   "cell_type": "code",
   "execution_count": null,
   "metadata": {},
   "outputs": [],
   "source": [
    "def age_prog():\n",
    "    value = str(input(\"Enter years or seconds: \"))\n",
    "    if value == \"s\":\n",
    "        #seconds_to_ years\n",
    "        sec = int(input(\"Enter no of seconds: \"))\n",
    "        print(\"Your age in years is: {}\".format(int(sec)/365/24/60/60))\n",
    "    elif value == \"y\":\n",
    "        #years to seconds\n",
    "        yrs = int(input(\"Enter year: \"))\n",
    "        print(\"Your age in seconds is: {}\".format(int(yrs)*365*24*60*60))"
   ]
  },
  {
   "cell_type": "code",
   "execution_count": null,
   "metadata": {},
   "outputs": [],
   "source": [
    "age_prog()"
   ]
  },
  {
   "cell_type": "code",
   "execution_count": 1,
   "metadata": {},
   "outputs": [],
   "source": [
    "class Factory():\n",
    "    def __init__(self):\n",
    "        print(\"Factory class\")\n",
    "    def test(self):\n",
    "        print(\"test\")\n",
    "    def getLabel(self):\n",
    "        print(\"Blueprint factory\")\n",
    "    def getLogo(self):\n",
    "        print(\"Blueprint factory logo\")"
   ]
  },
  {
   "cell_type": "code",
   "execution_count": 12,
   "metadata": {},
   "outputs": [],
   "source": [
    "class Book(Factory):\n",
    "    def __init__(self,cap):\n",
    "        Factory.__init__(self)\n",
    "        self.cap=cap\n",
    "        print(\"Book class\")\n",
    "    def getLabel(self):\n",
    "        print(\"Book factory\")\n",
    "    #Polymorphism\n",
    "    def getLogo(self,name):\n",
    "        print(\"Blueprint factory logo: \"+name)\n",
    "        \n",
    "    #Special/Dunder methods\n",
    "    def __str__(self):\n",
    "        return (\"Book factory cap: \"+str(self.cap))\n",
    "    \n",
    "    def __len__(self):\n",
    "        return self.cap\n",
    "    def __del__(self):\n",
    "        print(\"deleted book factory\")\n",
    "    "
   ]
  },
  {
   "cell_type": "code",
   "execution_count": 19,
   "metadata": {},
   "outputs": [
    {
     "name": "stdout",
     "output_type": "stream",
     "text": [
      "Factory class\n",
      "Blueprint factory\n",
      "Blueprint factory logo\n",
      "----------------\n",
      "Factory class\n",
      "Book class\n",
      "test\n",
      "Book factory\n",
      "Blueprint factory logo: seerah\n"
     ]
    }
   ],
   "source": [
    "f1 = Factory()\n",
    "f1.getLabel()\n",
    "f1.getLogo()\n",
    "print(\"----------------\")\n",
    "book1 = Book(100)\n",
    "book1.test()\n",
    "book1.getLabel()\n",
    "book1.getLogo('seerah')"
   ]
  },
  {
   "cell_type": "code",
   "execution_count": 20,
   "metadata": {},
   "outputs": [
    {
     "name": "stdout",
     "output_type": "stream",
     "text": [
      "Book factory cap: 100\n"
     ]
    },
    {
     "data": {
      "text/plain": [
       "'Book factory cap: 100'"
      ]
     },
     "execution_count": 20,
     "metadata": {},
     "output_type": "execute_result"
    }
   ],
   "source": [
    "#special methods\n",
    "print(book1)\n",
    "str(book1)"
   ]
  },
  {
   "cell_type": "code",
   "execution_count": 21,
   "metadata": {},
   "outputs": [
    {
     "data": {
      "text/plain": [
       "100"
      ]
     },
     "execution_count": 21,
     "metadata": {},
     "output_type": "execute_result"
    }
   ],
   "source": [
    "len(book1)"
   ]
  },
  {
   "cell_type": "code",
   "execution_count": 22,
   "metadata": {},
   "outputs": [
    {
     "name": "stdout",
     "output_type": "stream",
     "text": [
      "deleted book factory\n"
     ]
    }
   ],
   "source": [
    "del book1\n",
    "#object will be deleted"
   ]
  },
  {
   "cell_type": "code",
   "execution_count": null,
   "metadata": {},
   "outputs": [],
   "source": []
  },
  {
   "cell_type": "code",
   "execution_count": null,
   "metadata": {},
   "outputs": [],
   "source": []
  }
 ],
 "metadata": {
  "kernelspec": {
   "display_name": "Python 3",
   "language": "python",
   "name": "python3"
  },
  "language_info": {
   "codemirror_mode": {
    "name": "ipython",
    "version": 3
   },
   "file_extension": ".py",
   "mimetype": "text/x-python",
   "name": "python",
   "nbconvert_exporter": "python",
   "pygments_lexer": "ipython3",
   "version": "3.7.3"
  }
 },
 "nbformat": 4,
 "nbformat_minor": 2
}
